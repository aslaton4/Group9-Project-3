CREATE TABLE restaurants (
restaurant_name VARCHAR(90) NOT NULL,
cuisine_type VARCHAR(90) NOT NULL,
restaurant_id INT NOT NULL,
PRIMARY KEY (restaurant_name),
UNIQUE (restaurant_name)
);

SELECT FROM restaurants

CREATE TABLE orders (
order_id INT NOT NULL,
restaurant_name VARCHAR(90) NOT NULL,
customer_id VARCHAR(90) NOT NULL,
cost_of_the_order DECIMAL NOT NULL,
rating DECIMAL NOT NULL,
delivery_time INT NOT NULL,
day_of_the_week VARCHAR(90) NOT NULL,
cuisine_type VARCHAR(90) NOT NULL,
restaurant_id INT NOT NULL,
PRIMARY KEY (order_id),
FOREIGN KEY (restaurant_name) references restaurants (restaurant_name)
);

SELECT FROM orders

SELECT restaurants.restaurant_name, orders.restaurant_name FROM restaurants
INNER JOIN orders ON restaurants.restaurant_name = orders.restaurant_name;

